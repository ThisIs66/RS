{
 "cells": [
  {
   "cell_type": "markdown",
   "id": "b8ed9558",
   "metadata": {},
   "source": [
    "# Collaborative Filtering and Light FM"
   ]
  },
  {
   "cell_type": "code",
   "execution_count": 78,
   "id": "f906fad7",
   "metadata": {},
   "outputs": [],
   "source": [
    "import pandas as pd\n",
    "import numpy as np"
   ]
  },
  {
   "cell_type": "code",
   "execution_count": 79,
   "id": "b61b4afa",
   "metadata": {},
   "outputs": [
    {
     "data": {
      "text/html": [
       "<div>\n",
       "<style scoped>\n",
       "    .dataframe tbody tr th:only-of-type {\n",
       "        vertical-align: middle;\n",
       "    }\n",
       "\n",
       "    .dataframe tbody tr th {\n",
       "        vertical-align: top;\n",
       "    }\n",
       "\n",
       "    .dataframe thead th {\n",
       "        text-align: right;\n",
       "    }\n",
       "</style>\n",
       "<table border=\"1\" class=\"dataframe\">\n",
       "  <thead>\n",
       "    <tr style=\"text-align: right;\">\n",
       "      <th></th>\n",
       "      <th>User_ID</th>\n",
       "      <th>Rating</th>\n",
       "      <th>Movie_ID</th>\n",
       "    </tr>\n",
       "  </thead>\n",
       "  <tbody>\n",
       "    <tr>\n",
       "      <th>0</th>\n",
       "      <td>712664</td>\n",
       "      <td>5</td>\n",
       "      <td>3</td>\n",
       "    </tr>\n",
       "    <tr>\n",
       "      <th>1</th>\n",
       "      <td>1331154</td>\n",
       "      <td>4</td>\n",
       "      <td>3</td>\n",
       "    </tr>\n",
       "    <tr>\n",
       "      <th>2</th>\n",
       "      <td>2632461</td>\n",
       "      <td>3</td>\n",
       "      <td>3</td>\n",
       "    </tr>\n",
       "    <tr>\n",
       "      <th>3</th>\n",
       "      <td>44937</td>\n",
       "      <td>5</td>\n",
       "      <td>3</td>\n",
       "    </tr>\n",
       "    <tr>\n",
       "      <th>4</th>\n",
       "      <td>656399</td>\n",
       "      <td>4</td>\n",
       "      <td>3</td>\n",
       "    </tr>\n",
       "    <tr>\n",
       "      <th>...</th>\n",
       "      <td>...</td>\n",
       "      <td>...</td>\n",
       "      <td>...</td>\n",
       "    </tr>\n",
       "    <tr>\n",
       "      <th>17337453</th>\n",
       "      <td>520675</td>\n",
       "      <td>3</td>\n",
       "      <td>4496</td>\n",
       "    </tr>\n",
       "    <tr>\n",
       "      <th>17337454</th>\n",
       "      <td>1055714</td>\n",
       "      <td>5</td>\n",
       "      <td>4496</td>\n",
       "    </tr>\n",
       "    <tr>\n",
       "      <th>17337455</th>\n",
       "      <td>2643029</td>\n",
       "      <td>4</td>\n",
       "      <td>4496</td>\n",
       "    </tr>\n",
       "    <tr>\n",
       "      <th>17337456</th>\n",
       "      <td>1559566</td>\n",
       "      <td>3</td>\n",
       "      <td>4496</td>\n",
       "    </tr>\n",
       "    <tr>\n",
       "      <th>17337457</th>\n",
       "      <td>293198</td>\n",
       "      <td>3</td>\n",
       "      <td>4496</td>\n",
       "    </tr>\n",
       "  </tbody>\n",
       "</table>\n",
       "<p>17337458 rows × 3 columns</p>\n",
       "</div>"
      ],
      "text/plain": [
       "          User_ID  Rating  Movie_ID\n",
       "0          712664       5         3\n",
       "1         1331154       4         3\n",
       "2         2632461       3         3\n",
       "3           44937       5         3\n",
       "4          656399       4         3\n",
       "...           ...     ...       ...\n",
       "17337453   520675       3      4496\n",
       "17337454  1055714       5      4496\n",
       "17337455  2643029       4      4496\n",
       "17337456  1559566       3      4496\n",
       "17337457   293198       3      4496\n",
       "\n",
       "[17337458 rows x 3 columns]"
      ]
     },
     "execution_count": 79,
     "metadata": {},
     "output_type": "execute_result"
    }
   ],
   "source": [
    "rating = pd.read_csv('d:\\\\Desktop/Netflix_Dataset_Rating.csv')\n",
    "rating"
   ]
  },
  {
   "cell_type": "code",
   "execution_count": 80,
   "id": "d30fd997",
   "metadata": {},
   "outputs": [
    {
     "data": {
      "text/html": [
       "<div>\n",
       "<style scoped>\n",
       "    .dataframe tbody tr th:only-of-type {\n",
       "        vertical-align: middle;\n",
       "    }\n",
       "\n",
       "    .dataframe tbody tr th {\n",
       "        vertical-align: top;\n",
       "    }\n",
       "\n",
       "    .dataframe thead th {\n",
       "        text-align: right;\n",
       "    }\n",
       "</style>\n",
       "<table border=\"1\" class=\"dataframe\">\n",
       "  <thead>\n",
       "    <tr style=\"text-align: right;\">\n",
       "      <th></th>\n",
       "      <th>Movie_ID</th>\n",
       "      <th>Year</th>\n",
       "      <th>Name</th>\n",
       "    </tr>\n",
       "  </thead>\n",
       "  <tbody>\n",
       "    <tr>\n",
       "      <th>0</th>\n",
       "      <td>1</td>\n",
       "      <td>2003</td>\n",
       "      <td>Dinosaur Planet</td>\n",
       "    </tr>\n",
       "    <tr>\n",
       "      <th>1</th>\n",
       "      <td>2</td>\n",
       "      <td>2004</td>\n",
       "      <td>Isle of Man TT 2004 Review</td>\n",
       "    </tr>\n",
       "    <tr>\n",
       "      <th>2</th>\n",
       "      <td>3</td>\n",
       "      <td>1997</td>\n",
       "      <td>Character</td>\n",
       "    </tr>\n",
       "    <tr>\n",
       "      <th>3</th>\n",
       "      <td>4</td>\n",
       "      <td>1994</td>\n",
       "      <td>Paula Abdul's Get Up &amp; Dance</td>\n",
       "    </tr>\n",
       "    <tr>\n",
       "      <th>4</th>\n",
       "      <td>5</td>\n",
       "      <td>2004</td>\n",
       "      <td>The Rise and Fall of ECW</td>\n",
       "    </tr>\n",
       "    <tr>\n",
       "      <th>...</th>\n",
       "      <td>...</td>\n",
       "      <td>...</td>\n",
       "      <td>...</td>\n",
       "    </tr>\n",
       "    <tr>\n",
       "      <th>17765</th>\n",
       "      <td>17766</td>\n",
       "      <td>2002</td>\n",
       "      <td>Where the Wild Things Are and Other Maurice Se...</td>\n",
       "    </tr>\n",
       "    <tr>\n",
       "      <th>17766</th>\n",
       "      <td>17767</td>\n",
       "      <td>2004</td>\n",
       "      <td>Fidel Castro: American Experience</td>\n",
       "    </tr>\n",
       "    <tr>\n",
       "      <th>17767</th>\n",
       "      <td>17768</td>\n",
       "      <td>2000</td>\n",
       "      <td>Epoch</td>\n",
       "    </tr>\n",
       "    <tr>\n",
       "      <th>17768</th>\n",
       "      <td>17769</td>\n",
       "      <td>2003</td>\n",
       "      <td>The Company</td>\n",
       "    </tr>\n",
       "    <tr>\n",
       "      <th>17769</th>\n",
       "      <td>17770</td>\n",
       "      <td>2003</td>\n",
       "      <td>Alien Hunter</td>\n",
       "    </tr>\n",
       "  </tbody>\n",
       "</table>\n",
       "<p>17770 rows × 3 columns</p>\n",
       "</div>"
      ],
      "text/plain": [
       "       Movie_ID  Year                                               Name\n",
       "0             1  2003                                    Dinosaur Planet\n",
       "1             2  2004                         Isle of Man TT 2004 Review\n",
       "2             3  1997                                          Character\n",
       "3             4  1994                       Paula Abdul's Get Up & Dance\n",
       "4             5  2004                           The Rise and Fall of ECW\n",
       "...         ...   ...                                                ...\n",
       "17765     17766  2002  Where the Wild Things Are and Other Maurice Se...\n",
       "17766     17767  2004                  Fidel Castro: American Experience\n",
       "17767     17768  2000                                              Epoch\n",
       "17768     17769  2003                                        The Company\n",
       "17769     17770  2003                                       Alien Hunter\n",
       "\n",
       "[17770 rows x 3 columns]"
      ]
     },
     "execution_count": 80,
     "metadata": {},
     "output_type": "execute_result"
    }
   ],
   "source": [
    "movies = pd.read_csv('https://raw.githubusercontent.com/ThisIs66/RS/main/Netflix_Dataset_Movie.csv')\n",
    "movies"
   ]
  },
  {
   "cell_type": "code",
   "execution_count": 81,
   "id": "97fbf726",
   "metadata": {},
   "outputs": [
    {
     "data": {
      "text/html": [
       "<div>\n",
       "<style scoped>\n",
       "    .dataframe tbody tr th:only-of-type {\n",
       "        vertical-align: middle;\n",
       "    }\n",
       "\n",
       "    .dataframe tbody tr th {\n",
       "        vertical-align: top;\n",
       "    }\n",
       "\n",
       "    .dataframe thead th {\n",
       "        text-align: right;\n",
       "    }\n",
       "</style>\n",
       "<table border=\"1\" class=\"dataframe\">\n",
       "  <thead>\n",
       "    <tr style=\"text-align: right;\">\n",
       "      <th></th>\n",
       "      <th>Movie_ID</th>\n",
       "      <th>Year</th>\n",
       "      <th>Name</th>\n",
       "      <th>User_ID</th>\n",
       "      <th>Rating</th>\n",
       "    </tr>\n",
       "  </thead>\n",
       "  <tbody>\n",
       "    <tr>\n",
       "      <th>0</th>\n",
       "      <td>3</td>\n",
       "      <td>1997</td>\n",
       "      <td>Character</td>\n",
       "      <td>712664</td>\n",
       "      <td>5</td>\n",
       "    </tr>\n",
       "    <tr>\n",
       "      <th>1</th>\n",
       "      <td>3</td>\n",
       "      <td>1997</td>\n",
       "      <td>Character</td>\n",
       "      <td>1331154</td>\n",
       "      <td>4</td>\n",
       "    </tr>\n",
       "    <tr>\n",
       "      <th>2</th>\n",
       "      <td>3</td>\n",
       "      <td>1997</td>\n",
       "      <td>Character</td>\n",
       "      <td>2632461</td>\n",
       "      <td>3</td>\n",
       "    </tr>\n",
       "    <tr>\n",
       "      <th>3</th>\n",
       "      <td>3</td>\n",
       "      <td>1997</td>\n",
       "      <td>Character</td>\n",
       "      <td>44937</td>\n",
       "      <td>5</td>\n",
       "    </tr>\n",
       "    <tr>\n",
       "      <th>4</th>\n",
       "      <td>3</td>\n",
       "      <td>1997</td>\n",
       "      <td>Character</td>\n",
       "      <td>656399</td>\n",
       "      <td>4</td>\n",
       "    </tr>\n",
       "    <tr>\n",
       "      <th>...</th>\n",
       "      <td>...</td>\n",
       "      <td>...</td>\n",
       "      <td>...</td>\n",
       "      <td>...</td>\n",
       "      <td>...</td>\n",
       "    </tr>\n",
       "    <tr>\n",
       "      <th>17337453</th>\n",
       "      <td>4496</td>\n",
       "      <td>1993</td>\n",
       "      <td>Farewell My Concubine</td>\n",
       "      <td>520675</td>\n",
       "      <td>3</td>\n",
       "    </tr>\n",
       "    <tr>\n",
       "      <th>17337454</th>\n",
       "      <td>4496</td>\n",
       "      <td>1993</td>\n",
       "      <td>Farewell My Concubine</td>\n",
       "      <td>1055714</td>\n",
       "      <td>5</td>\n",
       "    </tr>\n",
       "    <tr>\n",
       "      <th>17337455</th>\n",
       "      <td>4496</td>\n",
       "      <td>1993</td>\n",
       "      <td>Farewell My Concubine</td>\n",
       "      <td>2643029</td>\n",
       "      <td>4</td>\n",
       "    </tr>\n",
       "    <tr>\n",
       "      <th>17337456</th>\n",
       "      <td>4496</td>\n",
       "      <td>1993</td>\n",
       "      <td>Farewell My Concubine</td>\n",
       "      <td>1559566</td>\n",
       "      <td>3</td>\n",
       "    </tr>\n",
       "    <tr>\n",
       "      <th>17337457</th>\n",
       "      <td>4496</td>\n",
       "      <td>1993</td>\n",
       "      <td>Farewell My Concubine</td>\n",
       "      <td>293198</td>\n",
       "      <td>3</td>\n",
       "    </tr>\n",
       "  </tbody>\n",
       "</table>\n",
       "<p>17337458 rows × 5 columns</p>\n",
       "</div>"
      ],
      "text/plain": [
       "          Movie_ID  Year                   Name  User_ID  Rating\n",
       "0                3  1997              Character   712664       5\n",
       "1                3  1997              Character  1331154       4\n",
       "2                3  1997              Character  2632461       3\n",
       "3                3  1997              Character    44937       5\n",
       "4                3  1997              Character   656399       4\n",
       "...            ...   ...                    ...      ...     ...\n",
       "17337453      4496  1993  Farewell My Concubine   520675       3\n",
       "17337454      4496  1993  Farewell My Concubine  1055714       5\n",
       "17337455      4496  1993  Farewell My Concubine  2643029       4\n",
       "17337456      4496  1993  Farewell My Concubine  1559566       3\n",
       "17337457      4496  1993  Farewell My Concubine   293198       3\n",
       "\n",
       "[17337458 rows x 5 columns]"
      ]
     },
     "execution_count": 81,
     "metadata": {},
     "output_type": "execute_result"
    }
   ],
   "source": [
    "df = pd.merge(movies, rating, left_on = \"Movie_ID\", right_on = \"Movie_ID\", how = \"inner\" )\n",
    "df"
   ]
  },
  {
   "cell_type": "code",
   "execution_count": 82,
   "id": "1e359668",
   "metadata": {},
   "outputs": [
    {
     "name": "stdout",
     "output_type": "stream",
     "text": [
      "<class 'pandas.core.frame.DataFrame'>\n",
      "Int64Index: 17337458 entries, 0 to 17337457\n",
      "Data columns (total 5 columns):\n",
      " #   Column    Dtype \n",
      "---  ------    ----- \n",
      " 0   Movie_ID  int64 \n",
      " 1   Year      int64 \n",
      " 2   Name      object\n",
      " 3   User_ID   int64 \n",
      " 4   Rating    int64 \n",
      "dtypes: int64(4), object(1)\n",
      "memory usage: 793.6+ MB\n"
     ]
    }
   ],
   "source": [
    "df.info()"
   ]
  },
  {
   "cell_type": "code",
   "execution_count": 120,
   "id": "687e9f41",
   "metadata": {},
   "outputs": [
    {
     "data": {
      "text/html": [
       "<div>\n",
       "<style scoped>\n",
       "    .dataframe tbody tr th:only-of-type {\n",
       "        vertical-align: middle;\n",
       "    }\n",
       "\n",
       "    .dataframe tbody tr th {\n",
       "        vertical-align: top;\n",
       "    }\n",
       "\n",
       "    .dataframe thead th {\n",
       "        text-align: right;\n",
       "    }\n",
       "</style>\n",
       "<table border=\"1\" class=\"dataframe\">\n",
       "  <thead>\n",
       "    <tr style=\"text-align: right;\">\n",
       "      <th></th>\n",
       "      <th>movie_id</th>\n",
       "      <th>year</th>\n",
       "      <th>name</th>\n",
       "      <th>user_id</th>\n",
       "      <th>rating</th>\n",
       "    </tr>\n",
       "  </thead>\n",
       "  <tbody>\n",
       "    <tr>\n",
       "      <th>0</th>\n",
       "      <td>3</td>\n",
       "      <td>1997</td>\n",
       "      <td>Character</td>\n",
       "      <td>712664</td>\n",
       "      <td>5</td>\n",
       "    </tr>\n",
       "    <tr>\n",
       "      <th>1</th>\n",
       "      <td>3</td>\n",
       "      <td>1997</td>\n",
       "      <td>Character</td>\n",
       "      <td>1331154</td>\n",
       "      <td>4</td>\n",
       "    </tr>\n",
       "    <tr>\n",
       "      <th>2</th>\n",
       "      <td>3</td>\n",
       "      <td>1997</td>\n",
       "      <td>Character</td>\n",
       "      <td>2632461</td>\n",
       "      <td>3</td>\n",
       "    </tr>\n",
       "    <tr>\n",
       "      <th>3</th>\n",
       "      <td>3</td>\n",
       "      <td>1997</td>\n",
       "      <td>Character</td>\n",
       "      <td>44937</td>\n",
       "      <td>5</td>\n",
       "    </tr>\n",
       "    <tr>\n",
       "      <th>4</th>\n",
       "      <td>3</td>\n",
       "      <td>1997</td>\n",
       "      <td>Character</td>\n",
       "      <td>656399</td>\n",
       "      <td>4</td>\n",
       "    </tr>\n",
       "    <tr>\n",
       "      <th>...</th>\n",
       "      <td>...</td>\n",
       "      <td>...</td>\n",
       "      <td>...</td>\n",
       "      <td>...</td>\n",
       "      <td>...</td>\n",
       "    </tr>\n",
       "    <tr>\n",
       "      <th>17337453</th>\n",
       "      <td>4496</td>\n",
       "      <td>1993</td>\n",
       "      <td>Farewell My Concubine</td>\n",
       "      <td>520675</td>\n",
       "      <td>3</td>\n",
       "    </tr>\n",
       "    <tr>\n",
       "      <th>17337454</th>\n",
       "      <td>4496</td>\n",
       "      <td>1993</td>\n",
       "      <td>Farewell My Concubine</td>\n",
       "      <td>1055714</td>\n",
       "      <td>5</td>\n",
       "    </tr>\n",
       "    <tr>\n",
       "      <th>17337455</th>\n",
       "      <td>4496</td>\n",
       "      <td>1993</td>\n",
       "      <td>Farewell My Concubine</td>\n",
       "      <td>2643029</td>\n",
       "      <td>4</td>\n",
       "    </tr>\n",
       "    <tr>\n",
       "      <th>17337456</th>\n",
       "      <td>4496</td>\n",
       "      <td>1993</td>\n",
       "      <td>Farewell My Concubine</td>\n",
       "      <td>1559566</td>\n",
       "      <td>3</td>\n",
       "    </tr>\n",
       "    <tr>\n",
       "      <th>17337457</th>\n",
       "      <td>4496</td>\n",
       "      <td>1993</td>\n",
       "      <td>Farewell My Concubine</td>\n",
       "      <td>293198</td>\n",
       "      <td>3</td>\n",
       "    </tr>\n",
       "  </tbody>\n",
       "</table>\n",
       "<p>17337458 rows × 5 columns</p>\n",
       "</div>"
      ],
      "text/plain": [
       "          movie_id  year                   name  user_id  rating\n",
       "0                3  1997              Character   712664       5\n",
       "1                3  1997              Character  1331154       4\n",
       "2                3  1997              Character  2632461       3\n",
       "3                3  1997              Character    44937       5\n",
       "4                3  1997              Character   656399       4\n",
       "...            ...   ...                    ...      ...     ...\n",
       "17337453      4496  1993  Farewell My Concubine   520675       3\n",
       "17337454      4496  1993  Farewell My Concubine  1055714       5\n",
       "17337455      4496  1993  Farewell My Concubine  2643029       4\n",
       "17337456      4496  1993  Farewell My Concubine  1559566       3\n",
       "17337457      4496  1993  Farewell My Concubine   293198       3\n",
       "\n",
       "[17337458 rows x 5 columns]"
      ]
     },
     "execution_count": 120,
     "metadata": {},
     "output_type": "execute_result"
    }
   ],
   "source": [
    "df.columns =['movie_id', 'year', 'name', 'user_id', 'rating']\n",
    "df"
   ]
  },
  {
   "cell_type": "code",
   "execution_count": 84,
   "id": "cc48cea1",
   "metadata": {},
   "outputs": [
    {
     "name": "stdout",
     "output_type": "stream",
     "text": [
      "<class 'pandas.core.frame.DataFrame'>\n",
      "Int64Index: 17337458 entries, 0 to 17337457\n",
      "Data columns (total 5 columns):\n",
      " #   Column    Dtype \n",
      "---  ------    ----- \n",
      " 0   movie_id  int64 \n",
      " 1   year      int64 \n",
      " 2   name      object\n",
      " 3   userid    int64 \n",
      " 4   rating    int64 \n",
      "dtypes: int64(4), object(1)\n",
      "memory usage: 793.6+ MB\n"
     ]
    }
   ],
   "source": [
    "df.info()"
   ]
  },
  {
   "cell_type": "code",
   "execution_count": 85,
   "id": "8d65dc80",
   "metadata": {},
   "outputs": [
    {
     "data": {
      "text/plain": [
       "movie_id    0\n",
       "year        0\n",
       "name        0\n",
       "userid      0\n",
       "rating      0\n",
       "dtype: int64"
      ]
     },
     "execution_count": 85,
     "metadata": {},
     "output_type": "execute_result"
    }
   ],
   "source": [
    "df.isnull().sum()"
   ]
  },
  {
   "cell_type": "code",
   "execution_count": 89,
   "id": "d7123e2d",
   "metadata": {},
   "outputs": [
    {
     "data": {
      "text/plain": [
       "3.590569909383486"
      ]
     },
     "execution_count": 89,
     "metadata": {},
     "output_type": "execute_result"
    }
   ],
   "source": [
    "df.rating.mean()"
   ]
  },
  {
   "cell_type": "code",
   "execution_count": 88,
   "id": "bb266b14",
   "metadata": {},
   "outputs": [
    {
     "data": {
      "text/plain": [
       "name\n",
       "Lost: Season 1                                   4.665432\n",
       "The Simpsons: Season 6                           4.589824\n",
       "Family Guy: Freakin' Sweet Collection            4.520766\n",
       "Six Feet Under: Season 4                         4.461601\n",
       "Inu-Yasha                                        4.457774\n",
       "Stargate SG-1: Season 8                          4.456026\n",
       "The Best of Friends: Vol. 4                      4.449168\n",
       "The West Wing: Season 3                          4.436258\n",
       "Lord of the Rings: The Fellowship of the Ring    4.431489\n",
       "Gilmore Girls: Season 3                          4.428943\n",
       "Name: rating, dtype: float64"
      ]
     },
     "execution_count": 88,
     "metadata": {},
     "output_type": "execute_result"
    }
   ],
   "source": [
    "df.groupby('name').rating.mean().sort_values(ascending = False).head(10)"
   ]
  },
  {
   "cell_type": "code",
   "execution_count": 159,
   "id": "fba61172",
   "metadata": {},
   "outputs": [
    {
     "data": {
      "text/plain": [
       "name\n",
       "Lost: Season 1                           4.665432\n",
       "The Simpsons: Season 6                   4.589824\n",
       "Family Guy: Freakin' Sweet Collection    4.520766\n",
       "Six Feet Under: Season 4                 4.461601\n",
       "Inu-Yasha                                4.457774\n",
       "                                           ...   \n",
       "Ernest Goes to Jail                      2.221938\n",
       "Freddy Got Fingered                      2.217361\n",
       "Gerry                                    2.203597\n",
       "Spice World                              2.101550\n",
       "House of the Dead                        1.962031\n",
       "Name: rating, Length: 1342, dtype: float64"
      ]
     },
     "execution_count": 159,
     "metadata": {},
     "output_type": "execute_result"
    }
   ],
   "source": [
    "mean_rating=df.groupby('name').rating.mean().sort_values(ascending = False)\n",
    "mean_rating"
   ]
  },
  {
   "cell_type": "code",
   "execution_count": 90,
   "id": "9153cd81",
   "metadata": {},
   "outputs": [],
   "source": [
    "import matplotlib.pyplot as plt\n",
    "import seaborn as sns"
   ]
  },
  {
   "cell_type": "code",
   "execution_count": 91,
   "id": "3d228257",
   "metadata": {},
   "outputs": [
    {
     "name": "stderr",
     "output_type": "stream",
     "text": [
      "C:\\Users\\alway\\anaconda3\\lib\\site-packages\\seaborn\\_decorators.py:36: FutureWarning: Pass the following variable as a keyword arg: x. From version 0.12, the only valid positional argument will be `data`, and passing other arguments without an explicit keyword will result in an error or misinterpretation.\n",
      "  warnings.warn(\n"
     ]
    },
    {
     "data": {
      "text/plain": [
       "<AxesSubplot:xlabel='rating', ylabel='count'>"
      ]
     },
     "execution_count": 91,
     "metadata": {},
     "output_type": "execute_result"
    },
    {
     "data": {
      "image/png": "[encoded data removed]",
      "text/plain": [
       "<Figure size 432x288 with 1 Axes>"
      ]
     },
     "metadata": {
      "needs_background": "light"
     },
     "output_type": "display_data"
    }
   ],
   "source": [
    "sns.countplot(df.rating)"
   ]
  },
  {
   "cell_type": "code",
   "execution_count": 92,
   "id": "0c28b0b4",
   "metadata": {},
   "outputs": [
    {
     "data": {
      "text/html": [
       "<div>\n",
       "<style scoped>\n",
       "    .dataframe tbody tr th:only-of-type {\n",
       "        vertical-align: middle;\n",
       "    }\n",
       "\n",
       "    .dataframe tbody tr th {\n",
       "        vertical-align: top;\n",
       "    }\n",
       "\n",
       "    .dataframe thead th {\n",
       "        text-align: right;\n",
       "    }\n",
       "</style>\n",
       "<table border=\"1\" class=\"dataframe\">\n",
       "  <thead>\n",
       "    <tr style=\"text-align: right;\">\n",
       "      <th></th>\n",
       "      <th>rating</th>\n",
       "    </tr>\n",
       "    <tr>\n",
       "      <th>name</th>\n",
       "      <th></th>\n",
       "    </tr>\n",
       "  </thead>\n",
       "  <tbody>\n",
       "    <tr>\n",
       "      <th>10</th>\n",
       "      <td>3.113049</td>\n",
       "    </tr>\n",
       "    <tr>\n",
       "      <th>10 Things I Hate About You</th>\n",
       "      <td>3.703471</td>\n",
       "    </tr>\n",
       "    <tr>\n",
       "      <th>101 Dalmatians II: Patch's London Adventure</th>\n",
       "      <td>3.528282</td>\n",
       "    </tr>\n",
       "    <tr>\n",
       "      <th>11:14</th>\n",
       "      <td>3.260153</td>\n",
       "    </tr>\n",
       "    <tr>\n",
       "      <th>13 Ghosts</th>\n",
       "      <td>3.595732</td>\n",
       "    </tr>\n",
       "    <tr>\n",
       "      <th>...</th>\n",
       "      <td>...</td>\n",
       "    </tr>\n",
       "    <tr>\n",
       "      <th>Yojimbo</th>\n",
       "      <td>4.021298</td>\n",
       "    </tr>\n",
       "    <tr>\n",
       "      <th>Young Black Stallion</th>\n",
       "      <td>3.259422</td>\n",
       "    </tr>\n",
       "    <tr>\n",
       "      <th>Youngblood</th>\n",
       "      <td>3.273667</td>\n",
       "    </tr>\n",
       "    <tr>\n",
       "      <th>Yu-Gi-Oh!: The Movie</th>\n",
       "      <td>3.192789</td>\n",
       "    </tr>\n",
       "    <tr>\n",
       "      <th>Zorro</th>\n",
       "      <td>3.308292</td>\n",
       "    </tr>\n",
       "  </tbody>\n",
       "</table>\n",
       "<p>1342 rows × 1 columns</p>\n",
       "</div>"
      ],
      "text/plain": [
       "                                               rating\n",
       "name                                                 \n",
       "10                                           3.113049\n",
       "10 Things I Hate About You                   3.703471\n",
       "101 Dalmatians II: Patch's London Adventure  3.528282\n",
       "11:14                                        3.260153\n",
       "13 Ghosts                                    3.595732\n",
       "...                                               ...\n",
       "Yojimbo                                      4.021298\n",
       "Young Black Stallion                         3.259422\n",
       "Youngblood                                   3.273667\n",
       "Yu-Gi-Oh!: The Movie                         3.192789\n",
       "Zorro                                        3.308292\n",
       "\n",
       "[1342 rows x 1 columns]"
      ]
     },
     "execution_count": 92,
     "metadata": {},
     "output_type": "execute_result"
    }
   ],
   "source": [
    "ratings=pd.DataFrame(df.groupby('name')['rating'].mean())\n",
    "ratings"
   ]
  },
  {
   "cell_type": "code",
   "execution_count": 140,
   "id": "c935066b",
   "metadata": {},
   "outputs": [],
   "source": [
    "# some movies rated by only small group user, drop the movies that not enough review\n",
    "f = ['count','mean']\n",
    "df_movie_summary = df.groupby('movie_id')['rating'].agg(f)\n",
    "df_movie_summary.index = df_movie_summary.index.map(int)\n",
    "movie_benchmark = round(df_movie_summary['count'].quantile(0.7),0)\n",
    "drop_movie_list = df_movie_summary[df_movie_summary['count'] < movie_benchmark].index"
   ]
  },
  {
   "cell_type": "code",
   "execution_count": 184,
   "id": "518b91e6",
   "metadata": {},
   "outputs": [
    {
     "data": {
      "text/plain": [
       "11472.0"
      ]
     },
     "execution_count": 184,
     "metadata": {},
     "output_type": "execute_result"
    }
   ],
   "source": [
    "movie_benchmark"
   ]
  },
  {
   "cell_type": "code",
   "execution_count": 166,
   "id": "fbe30c0a",
   "metadata": {},
   "outputs": [
    {
     "data": {
      "text/html": [
       "<div>\n",
       "<style scoped>\n",
       "    .dataframe tbody tr th:only-of-type {\n",
       "        vertical-align: middle;\n",
       "    }\n",
       "\n",
       "    .dataframe tbody tr th {\n",
       "        vertical-align: top;\n",
       "    }\n",
       "\n",
       "    .dataframe thead th {\n",
       "        text-align: right;\n",
       "    }\n",
       "</style>\n",
       "<table border=\"1\" class=\"dataframe\">\n",
       "  <thead>\n",
       "    <tr style=\"text-align: right;\">\n",
       "      <th></th>\n",
       "      <th>count</th>\n",
       "      <th>mean</th>\n",
       "    </tr>\n",
       "    <tr>\n",
       "      <th>movie_id</th>\n",
       "      <th></th>\n",
       "      <th></th>\n",
       "    </tr>\n",
       "  </thead>\n",
       "  <tbody>\n",
       "    <tr>\n",
       "      <th>3</th>\n",
       "      <td>1524</td>\n",
       "      <td>3.621391</td>\n",
       "    </tr>\n",
       "    <tr>\n",
       "      <th>8</th>\n",
       "      <td>9379</td>\n",
       "      <td>3.136795</td>\n",
       "    </tr>\n",
       "    <tr>\n",
       "      <th>16</th>\n",
       "      <td>2517</td>\n",
       "      <td>3.081843</td>\n",
       "    </tr>\n",
       "    <tr>\n",
       "      <th>17</th>\n",
       "      <td>4165</td>\n",
       "      <td>2.909964</td>\n",
       "    </tr>\n",
       "    <tr>\n",
       "      <th>18</th>\n",
       "      <td>9419</td>\n",
       "      <td>3.767597</td>\n",
       "    </tr>\n",
       "    <tr>\n",
       "      <th>...</th>\n",
       "      <td>...</td>\n",
       "      <td>...</td>\n",
       "    </tr>\n",
       "    <tr>\n",
       "      <th>4488</th>\n",
       "      <td>27997</td>\n",
       "      <td>3.540236</td>\n",
       "    </tr>\n",
       "    <tr>\n",
       "      <th>4490</th>\n",
       "      <td>7507</td>\n",
       "      <td>3.161849</td>\n",
       "    </tr>\n",
       "    <tr>\n",
       "      <th>4492</th>\n",
       "      <td>7511</td>\n",
       "      <td>2.652510</td>\n",
       "    </tr>\n",
       "    <tr>\n",
       "      <th>4493</th>\n",
       "      <td>4743</td>\n",
       "      <td>3.164875</td>\n",
       "    </tr>\n",
       "    <tr>\n",
       "      <th>4496</th>\n",
       "      <td>7835</td>\n",
       "      <td>3.765795</td>\n",
       "    </tr>\n",
       "  </tbody>\n",
       "</table>\n",
       "<p>1350 rows × 2 columns</p>\n",
       "</div>"
      ],
      "text/plain": [
       "          count      mean\n",
       "movie_id                 \n",
       "3          1524  3.621391\n",
       "8          9379  3.136795\n",
       "16         2517  3.081843\n",
       "17         4165  2.909964\n",
       "18         9419  3.767597\n",
       "...         ...       ...\n",
       "4488      27997  3.540236\n",
       "4490       7507  3.161849\n",
       "4492       7511  2.652510\n",
       "4493       4743  3.164875\n",
       "4496       7835  3.765795\n",
       "\n",
       "[1350 rows x 2 columns]"
      ]
     },
     "execution_count": 166,
     "metadata": {},
     "output_type": "execute_result"
    }
   ],
   "source": [
    "df_movie_summary"
   ]
  },
  {
   "cell_type": "code",
   "execution_count": 174,
   "id": "2b12dbda",
   "metadata": {},
   "outputs": [
    {
     "data": {
      "text/html": [
       "<div>\n",
       "<style scoped>\n",
       "    .dataframe tbody tr th:only-of-type {\n",
       "        vertical-align: middle;\n",
       "    }\n",
       "\n",
       "    .dataframe tbody tr th {\n",
       "        vertical-align: top;\n",
       "    }\n",
       "\n",
       "    .dataframe thead th {\n",
       "        text-align: right;\n",
       "    }\n",
       "</style>\n",
       "<table border=\"1\" class=\"dataframe\">\n",
       "  <thead>\n",
       "    <tr style=\"text-align: right;\">\n",
       "      <th></th>\n",
       "      <th>movie_id</th>\n",
       "      <th>year</th>\n",
       "      <th>name</th>\n",
       "      <th>user_id</th>\n",
       "      <th>rating</th>\n",
       "      <th>count</th>\n",
       "      <th>mean</th>\n",
       "    </tr>\n",
       "  </thead>\n",
       "  <tbody>\n",
       "    <tr>\n",
       "      <th>0</th>\n",
       "      <td>3</td>\n",
       "      <td>1997</td>\n",
       "      <td>Character</td>\n",
       "      <td>712664</td>\n",
       "      <td>5</td>\n",
       "      <td>1524</td>\n",
       "      <td>3.621391</td>\n",
       "    </tr>\n",
       "    <tr>\n",
       "      <th>1</th>\n",
       "      <td>3</td>\n",
       "      <td>1997</td>\n",
       "      <td>Character</td>\n",
       "      <td>1331154</td>\n",
       "      <td>4</td>\n",
       "      <td>1524</td>\n",
       "      <td>3.621391</td>\n",
       "    </tr>\n",
       "    <tr>\n",
       "      <th>2</th>\n",
       "      <td>3</td>\n",
       "      <td>1997</td>\n",
       "      <td>Character</td>\n",
       "      <td>2632461</td>\n",
       "      <td>3</td>\n",
       "      <td>1524</td>\n",
       "      <td>3.621391</td>\n",
       "    </tr>\n",
       "    <tr>\n",
       "      <th>3</th>\n",
       "      <td>3</td>\n",
       "      <td>1997</td>\n",
       "      <td>Character</td>\n",
       "      <td>44937</td>\n",
       "      <td>5</td>\n",
       "      <td>1524</td>\n",
       "      <td>3.621391</td>\n",
       "    </tr>\n",
       "    <tr>\n",
       "      <th>4</th>\n",
       "      <td>3</td>\n",
       "      <td>1997</td>\n",
       "      <td>Character</td>\n",
       "      <td>656399</td>\n",
       "      <td>4</td>\n",
       "      <td>1524</td>\n",
       "      <td>3.621391</td>\n",
       "    </tr>\n",
       "    <tr>\n",
       "      <th>...</th>\n",
       "      <td>...</td>\n",
       "      <td>...</td>\n",
       "      <td>...</td>\n",
       "      <td>...</td>\n",
       "      <td>...</td>\n",
       "      <td>...</td>\n",
       "      <td>...</td>\n",
       "    </tr>\n",
       "    <tr>\n",
       "      <th>17337453</th>\n",
       "      <td>4496</td>\n",
       "      <td>1993</td>\n",
       "      <td>Farewell My Concubine</td>\n",
       "      <td>520675</td>\n",
       "      <td>3</td>\n",
       "      <td>7835</td>\n",
       "      <td>3.765795</td>\n",
       "    </tr>\n",
       "    <tr>\n",
       "      <th>17337454</th>\n",
       "      <td>4496</td>\n",
       "      <td>1993</td>\n",
       "      <td>Farewell My Concubine</td>\n",
       "      <td>1055714</td>\n",
       "      <td>5</td>\n",
       "      <td>7835</td>\n",
       "      <td>3.765795</td>\n",
       "    </tr>\n",
       "    <tr>\n",
       "      <th>17337455</th>\n",
       "      <td>4496</td>\n",
       "      <td>1993</td>\n",
       "      <td>Farewell My Concubine</td>\n",
       "      <td>2643029</td>\n",
       "      <td>4</td>\n",
       "      <td>7835</td>\n",
       "      <td>3.765795</td>\n",
       "    </tr>\n",
       "    <tr>\n",
       "      <th>17337456</th>\n",
       "      <td>4496</td>\n",
       "      <td>1993</td>\n",
       "      <td>Farewell My Concubine</td>\n",
       "      <td>1559566</td>\n",
       "      <td>3</td>\n",
       "      <td>7835</td>\n",
       "      <td>3.765795</td>\n",
       "    </tr>\n",
       "    <tr>\n",
       "      <th>17337457</th>\n",
       "      <td>4496</td>\n",
       "      <td>1993</td>\n",
       "      <td>Farewell My Concubine</td>\n",
       "      <td>293198</td>\n",
       "      <td>3</td>\n",
       "      <td>7835</td>\n",
       "      <td>3.765795</td>\n",
       "    </tr>\n",
       "  </tbody>\n",
       "</table>\n",
       "<p>17337458 rows × 7 columns</p>\n",
       "</div>"
      ],
      "text/plain": [
       "          movie_id  year                   name  user_id  rating  count  \\\n",
       "0                3  1997              Character   712664       5   1524   \n",
       "1                3  1997              Character  1331154       4   1524   \n",
       "2                3  1997              Character  2632461       3   1524   \n",
       "3                3  1997              Character    44937       5   1524   \n",
       "4                3  1997              Character   656399       4   1524   \n",
       "...            ...   ...                    ...      ...     ...    ...   \n",
       "17337453      4496  1993  Farewell My Concubine   520675       3   7835   \n",
       "17337454      4496  1993  Farewell My Concubine  1055714       5   7835   \n",
       "17337455      4496  1993  Farewell My Concubine  2643029       4   7835   \n",
       "17337456      4496  1993  Farewell My Concubine  1559566       3   7835   \n",
       "17337457      4496  1993  Farewell My Concubine   293198       3   7835   \n",
       "\n",
       "              mean  \n",
       "0         3.621391  \n",
       "1         3.621391  \n",
       "2         3.621391  \n",
       "3         3.621391  \n",
       "4         3.621391  \n",
       "...            ...  \n",
       "17337453  3.765795  \n",
       "17337454  3.765795  \n",
       "17337455  3.765795  \n",
       "17337456  3.765795  \n",
       "17337457  3.765795  \n",
       "\n",
       "[17337458 rows x 7 columns]"
      ]
     },
     "execution_count": 174,
     "metadata": {},
     "output_type": "execute_result"
    }
   ],
   "source": [
    "df_movie = pd.merge(df,df_movie_summary, left_on = \"movie_id\", right_on = \"movie_id\" )\n",
    "df_movie"
   ]
  },
  {
   "cell_type": "markdown",
   "id": "f028d0e2",
   "metadata": {},
   "source": [
    "## Collaborative Filtering - SVD"
   ]
  },
  {
   "cell_type": "code",
   "execution_count": 118,
   "id": "0875aba7",
   "metadata": {},
   "outputs": [],
   "source": [
    "from surprise import Reader, Dataset, SVD\n",
    "from surprise import accuracy\n",
    "from surprise.model_selection import train_test_split"
   ]
  },
  {
   "cell_type": "code",
   "execution_count": 143,
   "id": "3b866181",
   "metadata": {},
   "outputs": [
    {
     "name": "stdout",
     "output_type": "stream",
     "text": [
      "Processing epoch 0\n",
      "Processing epoch 1\n",
      "Processing epoch 2\n",
      "Processing epoch 3\n",
      "Processing epoch 4\n",
      "Processing epoch 5\n",
      "Processing epoch 6\n",
      "Processing epoch 7\n",
      "Processing epoch 8\n",
      "Processing epoch 9\n"
     ]
    },
    {
     "data": {
      "text/plain": [
       "<surprise.prediction_algorithms.matrix_factorization.SVD at 0x2e0468e7b20>"
      ]
     },
     "execution_count": 143,
     "metadata": {},
     "output_type": "execute_result"
    }
   ],
   "source": [
    "model = SVD(n_epochs=10,verbose = True)\n",
    "\n",
    "data = Dataset.load_from_df(df[['user_id', 'movie_id', 'rating']], Reader())\n",
    "\n",
    "trainset, testset = train_test_split(data, test_size=0.3,random_state=10)\n",
    "\n",
    "trainset = data.build_full_trainset()\n",
    "\n",
    "model.fit(trainset)"
   ]
  },
  {
   "cell_type": "code",
   "execution_count": 144,
   "id": "70e9a3eb",
   "metadata": {},
   "outputs": [
    {
     "name": "stdout",
     "output_type": "stream",
     "text": [
      "RMSE: 0.8296\n"
     ]
    },
    {
     "data": {
      "text/plain": [
       "0.8295619580596203"
      ]
     },
     "execution_count": 144,
     "metadata": {},
     "output_type": "execute_result"
    }
   ],
   "source": [
    "predictions = model.test(testset)\n",
    "\n",
    "accuracy.rmse(predictions, verbose=True)"
   ]
  },
  {
   "cell_type": "code",
   "execution_count": 177,
   "id": "4fe5aadb",
   "metadata": {},
   "outputs": [
    {
     "data": {
      "text/html": [
       "<div>\n",
       "<style scoped>\n",
       "    .dataframe tbody tr th:only-of-type {\n",
       "        vertical-align: middle;\n",
       "    }\n",
       "\n",
       "    .dataframe tbody tr th {\n",
       "        vertical-align: top;\n",
       "    }\n",
       "\n",
       "    .dataframe thead th {\n",
       "        text-align: right;\n",
       "    }\n",
       "</style>\n",
       "<table border=\"1\" class=\"dataframe\">\n",
       "  <thead>\n",
       "    <tr style=\"text-align: right;\">\n",
       "      <th></th>\n",
       "      <th>Movie_ID</th>\n",
       "      <th>Year</th>\n",
       "      <th>Name</th>\n",
       "    </tr>\n",
       "  </thead>\n",
       "  <tbody>\n",
       "    <tr>\n",
       "      <th>0</th>\n",
       "      <td>1</td>\n",
       "      <td>2003</td>\n",
       "      <td>Dinosaur Planet</td>\n",
       "    </tr>\n",
       "    <tr>\n",
       "      <th>1</th>\n",
       "      <td>2</td>\n",
       "      <td>2004</td>\n",
       "      <td>Isle of Man TT 2004 Review</td>\n",
       "    </tr>\n",
       "    <tr>\n",
       "      <th>2</th>\n",
       "      <td>3</td>\n",
       "      <td>1997</td>\n",
       "      <td>Character</td>\n",
       "    </tr>\n",
       "    <tr>\n",
       "      <th>3</th>\n",
       "      <td>4</td>\n",
       "      <td>1994</td>\n",
       "      <td>Paula Abdul's Get Up &amp; Dance</td>\n",
       "    </tr>\n",
       "    <tr>\n",
       "      <th>4</th>\n",
       "      <td>5</td>\n",
       "      <td>2004</td>\n",
       "      <td>The Rise and Fall of ECW</td>\n",
       "    </tr>\n",
       "    <tr>\n",
       "      <th>...</th>\n",
       "      <td>...</td>\n",
       "      <td>...</td>\n",
       "      <td>...</td>\n",
       "    </tr>\n",
       "    <tr>\n",
       "      <th>17765</th>\n",
       "      <td>17766</td>\n",
       "      <td>2002</td>\n",
       "      <td>Where the Wild Things Are and Other Maurice Se...</td>\n",
       "    </tr>\n",
       "    <tr>\n",
       "      <th>17766</th>\n",
       "      <td>17767</td>\n",
       "      <td>2004</td>\n",
       "      <td>Fidel Castro: American Experience</td>\n",
       "    </tr>\n",
       "    <tr>\n",
       "      <th>17767</th>\n",
       "      <td>17768</td>\n",
       "      <td>2000</td>\n",
       "      <td>Epoch</td>\n",
       "    </tr>\n",
       "    <tr>\n",
       "      <th>17768</th>\n",
       "      <td>17769</td>\n",
       "      <td>2003</td>\n",
       "      <td>The Company</td>\n",
       "    </tr>\n",
       "    <tr>\n",
       "      <th>17769</th>\n",
       "      <td>17770</td>\n",
       "      <td>2003</td>\n",
       "      <td>Alien Hunter</td>\n",
       "    </tr>\n",
       "  </tbody>\n",
       "</table>\n",
       "<p>17770 rows × 3 columns</p>\n",
       "</div>"
      ],
      "text/plain": [
       "       Movie_ID  Year                                               Name\n",
       "0             1  2003                                    Dinosaur Planet\n",
       "1             2  2004                         Isle of Man TT 2004 Review\n",
       "2             3  1997                                          Character\n",
       "3             4  1994                       Paula Abdul's Get Up & Dance\n",
       "4             5  2004                           The Rise and Fall of ECW\n",
       "...         ...   ...                                                ...\n",
       "17765     17766  2002  Where the Wild Things Are and Other Maurice Se...\n",
       "17766     17767  2004                  Fidel Castro: American Experience\n",
       "17767     17768  2000                                              Epoch\n",
       "17768     17769  2003                                        The Company\n",
       "17769     17770  2003                                       Alien Hunter\n",
       "\n",
       "[17770 rows x 3 columns]"
      ]
     },
     "execution_count": 177,
     "metadata": {},
     "output_type": "execute_result"
    }
   ],
   "source": [
    "movies"
   ]
  },
  {
   "cell_type": "code",
   "execution_count": 178,
   "id": "30ef21dd",
   "metadata": {},
   "outputs": [],
   "source": [
    "def Recommendation(given_user_id,n_movies):\n",
    "    given_user = movies.copy()\n",
    "    given_user = given_user.reset_index()\n",
    "    given_user = given_user[~given_user['Movie_ID'].isin(drop_movie_list)]\n",
    "\n",
    "    given_user['Estimated_Rating'] = given_user['Movie_ID'].apply(lambda x: model.predict(given_user_id, x).est)\n",
    "\n",
    "    given_user = given_user.sort_values('Estimated_Rating', ascending=False)\n",
    "    given_user.drop(['index'], axis = 1,inplace=True)\n",
    "    given_user.reset_index(inplace=True,drop=True)\n",
    "    return given_user.head(n_movies)"
   ]
  },
  {
   "cell_type": "markdown",
   "id": "08b6c073",
   "metadata": {},
   "source": [
    "### Recommend for user 44937"
   ]
  },
  {
   "cell_type": "code",
   "execution_count": 179,
   "id": "eff736cf",
   "metadata": {},
   "outputs": [
    {
     "data": {
      "text/html": [
       "<div>\n",
       "<style scoped>\n",
       "    .dataframe tbody tr th:only-of-type {\n",
       "        vertical-align: middle;\n",
       "    }\n",
       "\n",
       "    .dataframe tbody tr th {\n",
       "        vertical-align: top;\n",
       "    }\n",
       "\n",
       "    .dataframe thead th {\n",
       "        text-align: right;\n",
       "    }\n",
       "</style>\n",
       "<table border=\"1\" class=\"dataframe\">\n",
       "  <thead>\n",
       "    <tr style=\"text-align: right;\">\n",
       "      <th></th>\n",
       "      <th>Movie_ID</th>\n",
       "      <th>Year</th>\n",
       "      <th>Name</th>\n",
       "      <th>Estimated_Rating</th>\n",
       "    </tr>\n",
       "  </thead>\n",
       "  <tbody>\n",
       "    <tr>\n",
       "      <th>0</th>\n",
       "      <td>2803</td>\n",
       "      <td>1995</td>\n",
       "      <td>Pride and Prejudice</td>\n",
       "      <td>4.539115</td>\n",
       "    </tr>\n",
       "    <tr>\n",
       "      <th>1</th>\n",
       "      <td>872</td>\n",
       "      <td>1954</td>\n",
       "      <td>Seven Samurai</td>\n",
       "      <td>4.497611</td>\n",
       "    </tr>\n",
       "    <tr>\n",
       "      <th>2</th>\n",
       "      <td>1435</td>\n",
       "      <td>2001</td>\n",
       "      <td>Wallace &amp; Gromit in Three Amazing Adventures</td>\n",
       "      <td>4.437984</td>\n",
       "    </tr>\n",
       "    <tr>\n",
       "      <th>3</th>\n",
       "      <td>241</td>\n",
       "      <td>1959</td>\n",
       "      <td>North by Northwest</td>\n",
       "      <td>4.424235</td>\n",
       "    </tr>\n",
       "    <tr>\n",
       "      <th>4</th>\n",
       "      <td>3798</td>\n",
       "      <td>1973</td>\n",
       "      <td>The Sting</td>\n",
       "      <td>4.387859</td>\n",
       "    </tr>\n",
       "  </tbody>\n",
       "</table>\n",
       "</div>"
      ],
      "text/plain": [
       "   Movie_ID  Year                                          Name  \\\n",
       "0      2803  1995                           Pride and Prejudice   \n",
       "1       872  1954                                 Seven Samurai   \n",
       "2      1435  2001  Wallace & Gromit in Three Amazing Adventures   \n",
       "3       241  1959                            North by Northwest   \n",
       "4      3798  1973                                     The Sting   \n",
       "\n",
       "   Estimated_Rating  \n",
       "0          4.539115  \n",
       "1          4.497611  \n",
       "2          4.437984  \n",
       "3          4.424235  \n",
       "4          4.387859  "
      ]
     },
     "execution_count": 179,
     "metadata": {},
     "output_type": "execute_result"
    }
   ],
   "source": [
    "Recommendation(44937,5)"
   ]
  },
  {
   "cell_type": "markdown",
   "id": "994db2c0",
   "metadata": {},
   "source": [
    "### Recommend for user 1331154"
   ]
  },
  {
   "cell_type": "code",
   "execution_count": 185,
   "id": "63480a47",
   "metadata": {},
   "outputs": [
    {
     "data": {
      "text/html": [
       "<div>\n",
       "<style scoped>\n",
       "    .dataframe tbody tr th:only-of-type {\n",
       "        vertical-align: middle;\n",
       "    }\n",
       "\n",
       "    .dataframe tbody tr th {\n",
       "        vertical-align: top;\n",
       "    }\n",
       "\n",
       "    .dataframe thead th {\n",
       "        text-align: right;\n",
       "    }\n",
       "</style>\n",
       "<table border=\"1\" class=\"dataframe\">\n",
       "  <thead>\n",
       "    <tr style=\"text-align: right;\">\n",
       "      <th></th>\n",
       "      <th>Movie_ID</th>\n",
       "      <th>Year</th>\n",
       "      <th>Name</th>\n",
       "      <th>Estimated_Rating</th>\n",
       "    </tr>\n",
       "  </thead>\n",
       "  <tbody>\n",
       "    <tr>\n",
       "      <th>0</th>\n",
       "      <td>270</td>\n",
       "      <td>2001</td>\n",
       "      <td>Sex and the City: Season 4</td>\n",
       "      <td>4.578476</td>\n",
       "    </tr>\n",
       "    <tr>\n",
       "      <th>1</th>\n",
       "      <td>3962</td>\n",
       "      <td>2003</td>\n",
       "      <td>Finding Nemo (Widescreen)</td>\n",
       "      <td>4.527743</td>\n",
       "    </tr>\n",
       "    <tr>\n",
       "      <th>2</th>\n",
       "      <td>2743</td>\n",
       "      <td>2002</td>\n",
       "      <td>The Pianist</td>\n",
       "      <td>4.510855</td>\n",
       "    </tr>\n",
       "    <tr>\n",
       "      <th>3</th>\n",
       "      <td>2452</td>\n",
       "      <td>2001</td>\n",
       "      <td>Lord of the Rings: The Fellowship of the Ring</td>\n",
       "      <td>4.501632</td>\n",
       "    </tr>\n",
       "    <tr>\n",
       "      <th>4</th>\n",
       "      <td>2162</td>\n",
       "      <td>2000</td>\n",
       "      <td>CSI: Season 1</td>\n",
       "      <td>4.490252</td>\n",
       "    </tr>\n",
       "  </tbody>\n",
       "</table>\n",
       "</div>"
      ],
      "text/plain": [
       "   Movie_ID  Year                                           Name  \\\n",
       "0       270  2001                     Sex and the City: Season 4   \n",
       "1      3962  2003                      Finding Nemo (Widescreen)   \n",
       "2      2743  2002                                    The Pianist   \n",
       "3      2452  2001  Lord of the Rings: The Fellowship of the Ring   \n",
       "4      2162  2000                                  CSI: Season 1   \n",
       "\n",
       "   Estimated_Rating  \n",
       "0          4.578476  \n",
       "1          4.527743  \n",
       "2          4.510855  \n",
       "3          4.501632  \n",
       "4          4.490252  "
      ]
     },
     "execution_count": 185,
     "metadata": {},
     "output_type": "execute_result"
    }
   ],
   "source": [
    "Recommendation(1331154,5)"
   ]
  },
  {
   "cell_type": "markdown",
   "id": "8e6bba1f",
   "metadata": {},
   "source": [
    "## Light FM"
   ]
  },
  {
   "cell_type": "code",
   "execution_count": 189,
   "id": "c31f5684",
   "metadata": {},
   "outputs": [],
   "source": [
    "from lightfm.datasets import fetch_movielens\n",
    "from lightfm import LightFM \n",
    "from lightfm.evaluation import precision_at_k\n",
    "from lightfm.cross_validation import random_train_test_split"
   ]
  },
  {
   "cell_type": "code",
   "execution_count": 196,
   "id": "3eddf986",
   "metadata": {},
   "outputs": [
    {
     "data": {
      "text/plain": [
       "<17337458x3 sparse matrix of type '<class 'numpy.int64'>'\n",
       "\twith 52012374 stored elements in Compressed Sparse Row format>"
      ]
     },
     "execution_count": 196,
     "metadata": {},
     "output_type": "execute_result"
    }
   ],
   "source": [
    "csr_matrix(rating)"
   ]
  },
  {
   "cell_type": "code",
   "execution_count": 207,
   "id": "dcce16be",
   "metadata": {},
   "outputs": [],
   "source": [
    "import scipy.integrate\n",
    "\n",
    "import scipy.special"
   ]
  },
  {
   "cell_type": "code",
   "execution_count": 204,
   "id": "22d5768d",
   "metadata": {},
   "outputs": [
    {
     "name": "stderr",
     "output_type": "stream",
     "text": [
      "<ipython-input-204-e593412c1368>:1: DeprecationWarning: `np.int` is a deprecated alias for the builtin `int`. To silence this warning, use `int` by itself. Doing this will not modify any behavior and is safe. When replacing `np.int`, you may wish to use e.g. `np.int64` or `np.int32` to specify the precision. If you wish to review your current use, check the release note link for additional information.\n",
      "Deprecated in NumPy 1.20; for more details and guidance: https://numpy.org/devdocs/release/1.20.0-notes.html#deprecations\n",
      "  dense_matrix = np.array(rating.to_numpy(), dtype=bool).astype(np.int)\n"
     ]
    }
   ],
   "source": [
    "# transfer rating to sparse matrix to fit the model\n",
    "dense_matrix = np.array(rating.to_numpy(), dtype=bool).astype(np.int)"
   ]
  },
  {
   "cell_type": "code",
   "execution_count": 208,
   "id": "329a7af5",
   "metadata": {},
   "outputs": [],
   "source": [
    "sparse_matrix = scipy.sparse.csr_matrix(dense_matrix)"
   ]
  },
  {
   "cell_type": "code",
   "execution_count": 209,
   "id": "ebb86158",
   "metadata": {},
   "outputs": [
    {
     "data": {
      "text/plain": [
       "<17337458x3 sparse matrix of type '<class 'numpy.intc'>'\n",
       "\twith 52012374 stored elements in Compressed Sparse Row format>"
      ]
     },
     "execution_count": 209,
     "metadata": {},
     "output_type": "execute_result"
    }
   ],
   "source": [
    "sparse_matrix"
   ]
  },
  {
   "cell_type": "code",
   "execution_count": 190,
   "id": "1628e505",
   "metadata": {},
   "outputs": [],
   "source": [
    "model = LightFM(no_components=30)"
   ]
  },
  {
   "cell_type": "code",
   "execution_count": null,
   "id": "cfd40111",
   "metadata": {},
   "outputs": [],
   "source": [
    "\n",
    "model.fit(sparse_matrix, epochs=20)"
   ]
  },
  {
   "cell_type": "code",
   "execution_count": null,
   "id": "7547eeb7",
   "metadata": {},
   "outputs": [],
   "source": [
    "predictions = model.predict(test_user_ids, test_item_ids)"
   ]
  },
  {
   "cell_type": "markdown",
   "id": "02bbefb0",
   "metadata": {},
   "source": [
    "Unable to display results."
   ]
  },
  {
   "cell_type": "code",
   "execution_count": null,
   "id": "74602bda",
   "metadata": {},
   "outputs": [],
   "source": []
  }
 ],
 "metadata": {
  "kernelspec": {
   "display_name": "Python 3",
   "language": "python",
   "name": "python3"
  },
  "language_info": {
   "codemirror_mode": {
    "name": "ipython",
    "version": 3
   },
   "file_extension": ".py",
   "mimetype": "text/x-python",
   "name": "python",
   "nbconvert_exporter": "python",
   "pygments_lexer": "ipython3",
   "version": "3.8.8"
  }
 },
 "nbformat": 4,
 "nbformat_minor": 5
}
